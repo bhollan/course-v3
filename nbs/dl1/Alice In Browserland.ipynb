{
 "cells": [
  {
   "cell_type": "code",
   "execution_count": 1,
   "metadata": {},
   "outputs": [
    {
     "name": "stdout",
     "output_type": "stream",
     "text": [
      "train.zip: Skipping, found more recently modified local copy (use --force to force download)\n",
      "site_dic.pkl: Skipping, found more recently modified local copy (use --force to force download)\n",
      "test_sessions.csv: Skipping, found more recently modified local copy (use --force to force download)\n",
      "train_sessions.csv: Skipping, found more recently modified local copy (use --force to force download)\n",
      "sample_submission.csv: Skipping, found more recently modified local copy (use --force to force download)\n"
     ]
    }
   ],
   "source": [
    "!kaggle competitions download -c catch-me-if-you-can-intruder-detection-through-webpage-session-tracking2"
   ]
  },
  {
   "cell_type": "code",
   "execution_count": 2,
   "metadata": {},
   "outputs": [],
   "source": [
    "# go through train.zip and see if you can figure out who any/some/all of the those other_user_logs belong to\n",
    "# Maybe you can add those to the training data?\n",
    "# Maybe you can use those as a validation step?"
   ]
  },
  {
   "cell_type": "code",
   "execution_count": 4,
   "metadata": {},
   "outputs": [],
   "source": [
    "import fastai\n",
    "from fastai import *\n",
    "from fastai.tabular import *\n",
    "import seaborn as sns\n",
    "import pickle"
   ]
  },
  {
   "cell_type": "code",
   "execution_count": 13,
   "metadata": {},
   "outputs": [],
   "source": [
    "path = Path('./')"
   ]
  },
  {
   "cell_type": "code",
   "execution_count": 15,
   "metadata": {},
   "outputs": [
    {
     "data": {
      "text/plain": [
       "['00_notebook_tutorial.ipynb',\n",
       " 'images',\n",
       " 'sample_submission.csv',\n",
       " 'lesson1-pets.ipynb',\n",
       " '.ipynb_checkpoints',\n",
       " 'Alice In Browserland.ipynb',\n",
       " 'train.zip',\n",
       " 'test_sessions.csv',\n",
       " 'site_dic.pkl',\n",
       " 'train_sessions.csv',\n",
       " 'CIFAR.ipynb']"
      ]
     },
     "execution_count": 15,
     "metadata": {},
     "output_type": "execute_result"
    }
   ],
   "source": [
    "path.ls()"
   ]
  },
  {
   "cell_type": "code",
   "execution_count": null,
   "metadata": {},
   "outputs": [],
   "source": []
  }
 ],
 "metadata": {
  "kernelspec": {
   "display_name": "fastai-v1",
   "language": "python",
   "name": "fastai-v1"
  },
  "language_info": {
   "codemirror_mode": {
    "name": "ipython",
    "version": 3
   },
   "file_extension": ".py",
   "mimetype": "text/x-python",
   "name": "python",
   "nbconvert_exporter": "python",
   "pygments_lexer": "ipython3",
   "version": "3.7.0"
  }
 },
 "nbformat": 4,
 "nbformat_minor": 2
}
