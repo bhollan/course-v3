{
 "cells": [
  {
   "cell_type": "code",
   "execution_count": 1,
   "metadata": {},
   "outputs": [],
   "source": [
    "import fastai"
   ]
  },
  {
   "cell_type": "code",
   "execution_count": 2,
   "metadata": {},
   "outputs": [
    {
     "name": "stdout",
     "output_type": "stream",
     "text": [
      "\n",
      "\n",
      "```text\n",
      "=== Software === \n",
      "python version  : 3.7.0\n",
      "fastai version  : 1.0.19.dev0\n",
      "torch version   : 1.0.0.dev20181022\n",
      "nvidia driver   : 396.54\n",
      "torch cuda ver  : 9.2.148\n",
      "torch cuda is   : available\n",
      "torch cudnn ver : 7104\n",
      "torch cudnn is  : enabled\n",
      "\n",
      "=== Hardware === \n",
      "nvidia gpus     : 1\n",
      "torch available : 1\n",
      "  - gpu0        : 11441MB | Tesla K80\n",
      "\n",
      "=== Environment === \n",
      "platform        : Linux-4.15.0-1021-gcp-x86_64-with-debian-buster-sid\n",
      "distro          : Ubuntu 18.04 Bionic Beaver\n",
      "conda env       : Unknown\n",
      "python          : /home/beehollander/anaconda3/envs/fastai-v1/bin/python\n",
      "sys.path        : \n",
      "/home/beehollander/course-v3/nbs/dl1\n",
      "/home/beehollander/anaconda3/envs/fastai-v1/lib/python37.zip\n",
      "/home/beehollander/anaconda3/envs/fastai-v1/lib/python3.7\n",
      "/home/beehollander/anaconda3/envs/fastai-v1/lib/python3.7/lib-dynload\n",
      "/home/beehollander/anaconda3/envs/fastai-v1/lib/python3.7/site-packages\n",
      "/home/beehollander/fastai\n",
      "/home/beehollander/anaconda3/envs/fastai-v1/lib/python3.7/site-packages/IPython/extensions\n",
      "/home/beehollander/.ipython\n",
      "\n",
      "Wed Oct 31 15:53:44 2018       \n",
      "+-----------------------------------------------------------------------------+\n",
      "| NVIDIA-SMI 396.54                 Driver Version: 396.54                    |\n",
      "|-------------------------------+----------------------+----------------------+\n",
      "| GPU  Name        Persistence-M| Bus-Id        Disp.A | Volatile Uncorr. ECC |\n",
      "| Fan  Temp  Perf  Pwr:Usage/Cap|         Memory-Usage | GPU-Util  Compute M. |\n",
      "|===============================+======================+======================|\n",
      "|   0  Tesla K80           Off  | 00000000:00:04.0 Off |                    0 |\n",
      "| N/A   36C    P8    30W / 149W |     11MiB / 11441MiB |      0%      Default |\n",
      "+-------------------------------+----------------------+----------------------+\n",
      "                                                                               \n",
      "+-----------------------------------------------------------------------------+\n",
      "| Processes:                                                       GPU Memory |\n",
      "|  GPU       PID   Type   Process name                             Usage      |\n",
      "|=============================================================================|\n",
      "|  No running processes found                                                 |\n",
      "+-----------------------------------------------------------------------------+\n",
      "\n",
      "```\n",
      "\n",
      "Please make sure to include opening/closing ``` when you paste into forums/github to make the reports appear formatted as code sections.\n",
      "\n"
     ]
    }
   ],
   "source": [
    "fastai.show_install(1)"
   ]
  },
  {
   "cell_type": "code",
   "execution_count": null,
   "metadata": {},
   "outputs": [],
   "source": []
  }
 ],
 "metadata": {
  "kernelspec": {
   "display_name": "fastai-v1",
   "language": "python",
   "name": "fastai-v1"
  },
  "language_info": {
   "codemirror_mode": {
    "name": "ipython",
    "version": 3
   },
   "file_extension": ".py",
   "mimetype": "text/x-python",
   "name": "python",
   "nbconvert_exporter": "python",
   "pygments_lexer": "ipython3",
   "version": "3.7.0"
  }
 },
 "nbformat": 4,
 "nbformat_minor": 2
}
